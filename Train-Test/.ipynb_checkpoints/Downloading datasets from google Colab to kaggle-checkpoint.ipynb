{
 "cells": [
  {
   "cell_type": "code",
   "execution_count": null,
   "metadata": {
    "colab": {},
    "colab_type": "code",
    "id": "IAO1lDQKkbBC"
   },
   "outputs": [],
   "source": [
    "# Download API from your kaggle account\n",
    "# API named-> Kaggle.json\n",
    "#Ensure kaggle.json is in the location ~/.kaggle/kaggle.json to use the AP\n",
    "\n",
    "# Data download command\n",
    "#kaggle competitions download -c dogs-vs-cats\n",
    "\n",
    "# Upload Kaggle.json which you have downloaded from kaggle into your file\n",
    "# section in colab, which is erased in refresh"
   ]
  },
  {
   "cell_type": "markdown",
   "metadata": {
    "colab_type": "text",
    "id": "FPXo2HecGHkm"
   },
   "source": [
    "# Download API from your kaggle account\n",
    "### API named-> Kaggle.json\n",
    "\n",
    "Ensure kaggle.json is in the location ~/.kaggle/kaggle.json to use the AP"
   ]
  },
  {
   "cell_type": "code",
   "execution_count": null,
   "metadata": {
    "colab": {},
    "colab_type": "code",
    "id": "YvKXrg_mIw7z"
   },
   "outputs": [],
   "source": [
    "# # Uploading Kaggle API\n",
    "# from google.colab import files\n",
    "# files.upload() #upload kaggle.json"
   ]
  },
  {
   "cell_type": "code",
   "execution_count": 1,
   "metadata": {
    "colab": {},
    "colab_type": "code",
    "executionInfo": {
     "elapsed": 4391,
     "status": "ok",
     "timestamp": 1600482909285,
     "user": {
      "displayName": "Netra Prasad Neupane",
      "photoUrl": "",
      "userId": "06936625052302221360"
     },
     "user_tz": -345
    },
    "id": "RksBwjSaGPBz"
   },
   "outputs": [],
   "source": [
    " # installing kaggle api\n",
    " !pip install -q Kaggle"
   ]
  },
  {
   "cell_type": "code",
   "execution_count": 9,
   "metadata": {
    "colab": {},
    "colab_type": "code",
    "executionInfo": {
     "elapsed": 2113,
     "status": "ok",
     "timestamp": 1600483426594,
     "user": {
      "displayName": "Netra Prasad Neupane",
      "photoUrl": "",
      "userId": "06936625052302221360"
     },
     "user_tz": -345
    },
    "id": "ZyDcOMIRHrZX"
   },
   "outputs": [],
   "source": [
    "# making Kaggle folder to place kaggle.json\n",
    "!mkdir -p ~/.Kaggle/"
   ]
  },
  {
   "cell_type": "code",
   "execution_count": 10,
   "metadata": {
    "colab": {
     "base_uri": "https://localhost:8080/",
     "height": 34
    },
    "colab_type": "code",
    "executionInfo": {
     "elapsed": 1973,
     "status": "ok",
     "timestamp": 1600483432735,
     "user": {
      "displayName": "Netra Prasad Neupane",
      "photoUrl": "",
      "userId": "06936625052302221360"
     },
     "user_tz": -345
    },
    "id": "YRHewqhoH2-Z",
    "outputId": "318bfc7c-dee4-47bb-84e4-6aca93f52d9a"
   },
   "outputs": [
    {
     "name": "stdout",
     "output_type": "stream",
     "text": [
      "cp: cannot create regular file '/.Kaggle/': Not a directory\n"
     ]
    }
   ],
   "source": [
    "#Placing Kaggle.json to Kaggle folder\n",
    "!cp kaggle.json /.Kaggle/"
   ]
  },
  {
   "cell_type": "code",
   "execution_count": null,
   "metadata": {
    "colab": {},
    "colab_type": "code",
    "id": "HgFnXKdSINId"
   },
   "outputs": [],
   "source": []
  }
 ],
 "metadata": {
  "accelerator": "TPU",
  "colab": {
   "authorship_tag": "ABX9TyMgIDvaoBpr8+k15l9TEXIF",
   "collapsed_sections": [],
   "name": "Downloading datasets from google Colab to kaggle.ipynb",
   "provenance": []
  },
  "kernelspec": {
   "display_name": "Python 3 (ipykernel)",
   "language": "python",
   "name": "python3"
  },
  "language_info": {
   "codemirror_mode": {
    "name": "ipython",
    "version": 3
   },
   "file_extension": ".py",
   "mimetype": "text/x-python",
   "name": "python",
   "nbconvert_exporter": "python",
   "pygments_lexer": "ipython3",
   "version": "3.9.5"
  }
 },
 "nbformat": 4,
 "nbformat_minor": 1
}
